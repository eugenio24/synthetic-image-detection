{
 "cells": [
  {
   "cell_type": "code",
   "execution_count": null,
   "metadata": {},
   "outputs": [],
   "source": [
    "import pandas as pd\n",
    "import numpy as np\n",
    "from sklearn import metrics\n",
    "import matplotlib.pyplot as plt\n",
    "from pandas import DataFrame\n",
    "from datetime import datetime\n",
    "import os\n",
    "import glob"
   ]
  },
  {
   "cell_type": "code",
   "execution_count": null,
   "metadata": {},
   "outputs": [],
   "source": [
    "out_filepath = f'./evaluation_results/results{datetime.now().strftime(\"%Y-%m-%d_%H%M%S\")}.csv'\n",
    "with open(out_filepath, 'a') as out_file:\n",
    "    out_file.write('name,auc,accuracy,precision,recall')\n",
    "\n",
    "folders = [\n",
    "    './network_output/stylegan2/ffhq/',\n",
    "    './network_output/stylegan2/car/',\n",
    "    './network_output/stylegan2/cat/',\n",
    "    './network_output/stylegan2/church/',\n",
    "    './network_output/stylegan2/horse/',\n",
    "\n",
    "    './network_output/stylegan3/ffhq/',\n",
    "    './network_output/stylegan3/afhq_v2/',\n",
    "    './network_output/stylegan3/metfaces/',\n",
    "\n",
    "    './network_output/gated_convolution_inpainting/',\n",
    "\n",
    "    './network_output/glide/',    \n",
    "\n",
    "    './network_output/taming-transformers/'\n",
    "]"
   ]
  },
  {
   "cell_type": "code",
   "execution_count": null,
   "metadata": {},
   "outputs": [],
   "source": [
    "all_data_frames = {\n",
    "    'stylegan2': [], \n",
    "    'stylegan3': [],\n",
    "}\n",
    "\n",
    "def evaluate(folder):\n",
    "    plt.clf()\n",
    "\n",
    "    files = sum([glob.glob(os.path.join(folder, '*.csv'))], list())\n",
    "    if len(files) == 0: return\n",
    "    \n",
    "    for file in files:\n",
    "        data = pd.read_csv(file)\n",
    "        name = file.split('/')[-1][22:-4]\n",
    "\n",
    "        if 'stylegan3' in name:            \n",
    "            all_data_frames['stylegan3'].append(data)\n",
    "        elif 'stylegan2' in name:\n",
    "            all_data_frames['stylegan2'].append(data)\n",
    "\n",
    "        auc = metrics.roc_auc_score(data[\"fake\"], data[\"logit\"])\n",
    "\n",
    "        fpr, tpr, _ = metrics.roc_curve(data[\"fake\"], data[\"logit\"])\n",
    "\n",
    "        plt.plot(fpr,tpr, label=f'{name} AUC:{round(auc, 6)}')\n",
    "        \n",
    "        pred = data[\"logit\"].map(lambda x: 1 if x >= 0 else 0)\n",
    "\n",
    "        accuracy = metrics.accuracy_score(data[\"fake\"], pred)\n",
    "        precision = metrics.precision_score(data[\"fake\"], pred)\n",
    "        recall = metrics.recall_score(data[\"fake\"], pred)\n",
    "\n",
    "        with open(out_filepath, 'a') as out_file:\n",
    "            out_file.write(f'{name},{auc},{accuracy},{precision},{recall}\\n')\n",
    "            print(name, \"ROC-AUC\", auc, \"Accuracy\", accuracy, \"Precision\", precision, \"Recall\", recall)        \n",
    "    \n",
    "    plt.ylabel('True Positive Rate')\n",
    "    plt.xlabel('False Positive Rate')\n",
    "    plt.legend(loc=\"lower right\")\n",
    "\n",
    "    \n",
    "    base_name = folder.split('/')[-3]+'-' if 'stylegan' in folder else ''\n",
    "    out_name =  base_name + folder.split('/')[-2]\n",
    "    plt.savefig(f\"evaluation_results/{out_name}.png\")\n",
    "    plt.show()"
   ]
  },
  {
   "cell_type": "code",
   "execution_count": null,
   "metadata": {},
   "outputs": [],
   "source": [
    "for x in folders:\n",
    "    evaluate(x)"
   ]
  },
  {
   "cell_type": "code",
   "execution_count": null,
   "metadata": {},
   "outputs": [],
   "source": [
    "for key, value in all_data_frames.items():  \n",
    "    all_data = pd.concat(value)\n",
    "\n",
    "    auc = metrics.roc_auc_score(all_data[\"fake\"], all_data[\"logit\"])\n",
    "    fpr, tpr, _ = metrics.roc_curve(all_data[\"fake\"], all_data[\"logit\"])\n",
    "\n",
    "    pred = all_data[\"logit\"].map(lambda x: 1 if x >= 0 else 0)\n",
    "    \n",
    "    accuracy = metrics.accuracy_score(all_data[\"fake\"], pred)\n",
    "    precision = metrics.precision_score(all_data[\"fake\"], pred)\n",
    "    recall = metrics.recall_score(all_data[\"fake\"], pred)\n",
    "\n",
    "    with open(out_filepath, 'a') as out_file:\n",
    "        out_file.write(f'{key},{auc},{accuracy},{precision},{recall}\\n')\n",
    "        print(key, \"ROC-AUC\", auc, \"Accuracy\", accuracy, \"Precision\", precision, \"Recall\", recall)   \n",
    "    \n",
    "    plt.plot(fpr,tpr, label=f'{key}-all-categories AUC:{round(auc, 6)}')\n",
    "\n",
    "    plt.ylabel('True Positive Rate')\n",
    "    plt.xlabel('False Positive Rate')\n",
    "    plt.legend(loc=\"lower right\")\n",
    "    plt.savefig(f\"evaluation_results/{key}-all.png\")\n",
    "    plt.show()"
   ]
  }
 ],
 "metadata": {
  "kernelspec": {
   "display_name": "Python 3.9.5 64-bit",
   "language": "python",
   "name": "python3"
  },
  "language_info": {
   "codemirror_mode": {
    "name": "ipython",
    "version": 3
   },
   "file_extension": ".py",
   "mimetype": "text/x-python",
   "name": "python",
   "nbconvert_exporter": "python",
   "pygments_lexer": "ipython3",
   "version": "3.9.5"
  },
  "orig_nbformat": 4,
  "vscode": {
   "interpreter": {
    "hash": "f9f85f796d01129d0dd105a088854619f454435301f6ffec2fea96ecbd9be4ac"
   }
  }
 },
 "nbformat": 4,
 "nbformat_minor": 2
}
